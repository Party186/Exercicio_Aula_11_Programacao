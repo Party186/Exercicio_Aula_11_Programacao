{
  "nbformat": 4,
  "nbformat_minor": 0,
  "metadata": {
    "colab": {
      "name": "Untitled1.ipynb",
      "provenance": []
    },
    "kernelspec": {
      "name": "python3",
      "display_name": "Python 3"
    },
    "language_info": {
      "name": "python"
    }
  },
  "cells": [
    {
      "cell_type": "markdown",
      "metadata": {
        "id": "oD5ztnLPxsE1"
      },
      "source": [
        "Exercício 1"
      ]
    },
    {
      "cell_type": "code",
      "metadata": {
        "id": "bnHzuEE7w1NF"
      },
      "source": [
        "nota1 = float(input('Coloque qual foi a primeira nota do aluno (máximo 3):'))\n",
        "nota2 = float(input('Coloque qual foi a segunda nota do aluno(máximo 3):'))\n",
        "nota3 = float(input('Coloque qual foi a terceira nota do aluno(máximo 4):'))\n",
        "notadoaluno = nota1 + nota2 + nota3\n",
        "\n",
        "print(notadoaluno)\n",
        "\n",
        "if 6 > notadoaluno:\n",
        "    print('Sinto muito! O aluno foi reprovado!')\n",
        "else:\n",
        "    print('Parabéns! O aluno foi aprovado!')"
      ],
      "execution_count": null,
      "outputs": []
    },
    {
      "cell_type": "markdown",
      "metadata": {
        "id": "PqRa36vG1ckE"
      },
      "source": [
        "Exercício 2"
      ]
    },
    {
      "cell_type": "code",
      "metadata": {
        "id": "C6swE7aY1e0M"
      },
      "source": [
        "peso = float(input('Coloque seu peso:'))\n",
        "altura = float(input('Coloque sua altura:'))\n",
        "imc = peso/(altura**altura)\n",
        "\n",
        "print('Seu imc é',imc)\n",
        "\n",
        "if 17 > imc:\n",
        "    print('Você possui um peso menor que magreza de grau 1')\n",
        "elif 17.0 <= imc < 18.4:\n",
        "    print('Você possui magreza de grau 1')\n",
        "elif 18.5 <= imc < 24.9:\n",
        "    print('Você possui o peso adequado')\n",
        "elif 25 <= imc < 29.9:\n",
        "    print('Você é pré obeso')\n",
        "elif 30 <= imc < 34.9:\n",
        "    print('Você possui obesidade de grau 1')\n",
        "else:\n",
        "    print('Seu peso é maior do que obesidade de grau 1')"
      ],
      "execution_count": null,
      "outputs": []
    }
  ]
}